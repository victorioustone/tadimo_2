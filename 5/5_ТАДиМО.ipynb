{
  "cells": [
    {
      "cell_type": "code",
      "execution_count": 43,
      "metadata": {
        "id": "XtFQP3RNll3c"
      },
      "outputs": [],
      "source": [
        "import re\n",
        "import nltk\n",
        "import numpy\n",
        "\n",
        "import torch\n",
        "from torch.utils.data import Dataset, DataLoader\n",
        "import torch.nn as nn\n",
        "import torch.optim as optim\n",
        "\n",
        "import pandas as pd\n",
        "from sklearn.model_selection import train_test_split\n",
        "from sklearn.metrics import accuracy_score\n",
        "from nltk.tokenize import word_tokenize\n",
        "from sklearn.preprocessing import LabelEncoder\n",
        "\n",
        "\n",
        "from torch.autograd import Variable"
      ]
    },
    {
      "cell_type": "code",
      "source": [
        "import torch.nn.functional as F\n",
        "import numpy as np"
      ],
      "metadata": {
        "id": "2i7hnp2Mwj9W"
      },
      "execution_count": 3,
      "outputs": []
    },
    {
      "cell_type": "code",
      "execution_count": 4,
      "metadata": {
        "colab": {
          "base_uri": "https://localhost:8080/"
        },
        "id": "443CZCLp0_sE",
        "outputId": "2e46df80-a78a-49bc-9f67-5fcf3e244341"
      },
      "outputs": [
        {
          "output_type": "stream",
          "name": "stderr",
          "text": [
            "[nltk_data] Downloading package punkt to /root/nltk_data...\n",
            "[nltk_data]   Unzipping tokenizers/punkt.zip.\n"
          ]
        },
        {
          "output_type": "execute_result",
          "data": {
            "text/plain": [
              "True"
            ]
          },
          "metadata": {},
          "execution_count": 4
        }
      ],
      "source": [
        "nltk.download('punkt')"
      ]
    },
    {
      "cell_type": "code",
      "source": [
        "nltk.download('stopwords')"
      ],
      "metadata": {
        "colab": {
          "base_uri": "https://localhost:8080/"
        },
        "id": "yX87GmVwdkSR",
        "outputId": "6dd50766-8ad7-48bb-ed0a-51b892f863df"
      },
      "execution_count": 5,
      "outputs": [
        {
          "output_type": "stream",
          "name": "stderr",
          "text": [
            "[nltk_data] Downloading package stopwords to /root/nltk_data...\n",
            "[nltk_data]   Unzipping corpora/stopwords.zip.\n"
          ]
        },
        {
          "output_type": "execute_result",
          "data": {
            "text/plain": [
              "True"
            ]
          },
          "metadata": {},
          "execution_count": 5
        }
      ]
    },
    {
      "cell_type": "code",
      "source": [
        "from google.colab import drive\n",
        "drive.mount('/content/drive')"
      ],
      "metadata": {
        "colab": {
          "base_uri": "https://localhost:8080/"
        },
        "id": "dTNua8YpDkfg",
        "outputId": "a027b687-21d8-445c-9908-3ef2394186b4"
      },
      "execution_count": 6,
      "outputs": [
        {
          "output_type": "stream",
          "name": "stdout",
          "text": [
            "Mounted at /content/drive\n"
          ]
        }
      ]
    },
    {
      "cell_type": "markdown",
      "metadata": {
        "id": "jqDHq_AEjRZ1"
      },
      "source": [
        "## 1. Представление и предобработка текстовых данных"
      ]
    },
    {
      "cell_type": "markdown",
      "metadata": {
        "id": "vaki7efDpmXo"
      },
      "source": [
        "1.1 Операции по предобработке:\n",
        "* токенизация\n",
        "* стемминг / лемматизация\n",
        "* удаление стоп-слов\n",
        "* удаление пунктуации\n",
        "* приведение к нижнему регистру\n",
        "* любые другие операции над текстом"
      ]
    },
    {
      "cell_type": "code",
      "execution_count": 7,
      "metadata": {
        "id": "nHRy4jpYphEr"
      },
      "outputs": [],
      "source": [
        "from nltk.tokenize import word_tokenize, sent_tokenize\n",
        "from nltk.stem.snowball import SnowballStemmer\n",
        "from nltk.corpus import stopwords\n",
        "from nltk.tokenize import RegexpTokenizer"
      ]
    },
    {
      "cell_type": "code",
      "execution_count": 8,
      "metadata": {
        "id": "lMMzGhq0ikz1"
      },
      "outputs": [],
      "source": [
        "text = 'Select your preferences and run the install command. Stable represents the most currently tested and supported version of PyTorch. Note that LibTorch is only available for C++'"
      ]
    },
    {
      "cell_type": "code",
      "source": [
        "# токенизация\n",
        "word_tokenize_list = word_tokenize(text)\n",
        "word_tokenize_list"
      ],
      "metadata": {
        "colab": {
          "base_uri": "https://localhost:8080/"
        },
        "id": "VrxxxQZxbQvB",
        "outputId": "3bc8bb1c-2ccc-436b-b37f-3dfa6423b7d8"
      },
      "execution_count": 9,
      "outputs": [
        {
          "output_type": "execute_result",
          "data": {
            "text/plain": [
              "['Select',\n",
              " 'your',\n",
              " 'preferences',\n",
              " 'and',\n",
              " 'run',\n",
              " 'the',\n",
              " 'install',\n",
              " 'command',\n",
              " '.',\n",
              " 'Stable',\n",
              " 'represents',\n",
              " 'the',\n",
              " 'most',\n",
              " 'currently',\n",
              " 'tested',\n",
              " 'and',\n",
              " 'supported',\n",
              " 'version',\n",
              " 'of',\n",
              " 'PyTorch',\n",
              " '.',\n",
              " 'Note',\n",
              " 'that',\n",
              " 'LibTorch',\n",
              " 'is',\n",
              " 'only',\n",
              " 'available',\n",
              " 'for',\n",
              " 'C++']"
            ]
          },
          "metadata": {},
          "execution_count": 9
        }
      ]
    },
    {
      "cell_type": "code",
      "source": [
        "# стемминг / лемматизация + приведение к нижнему регистру\n",
        "stemmer = SnowballStemmer(\"english\")\n",
        "stemmed_words = [stemmer.stem(word) for word in word_tokenize_list]\n",
        "stemmed_words"
      ],
      "metadata": {
        "colab": {
          "base_uri": "https://localhost:8080/"
        },
        "id": "K88yAFolb1N5",
        "outputId": "c4d93f5c-1e5d-493c-a230-7d31b694c3d1"
      },
      "execution_count": 10,
      "outputs": [
        {
          "output_type": "execute_result",
          "data": {
            "text/plain": [
              "['select',\n",
              " 'your',\n",
              " 'prefer',\n",
              " 'and',\n",
              " 'run',\n",
              " 'the',\n",
              " 'instal',\n",
              " 'command',\n",
              " '.',\n",
              " 'stabl',\n",
              " 'repres',\n",
              " 'the',\n",
              " 'most',\n",
              " 'current',\n",
              " 'test',\n",
              " 'and',\n",
              " 'support',\n",
              " 'version',\n",
              " 'of',\n",
              " 'pytorch',\n",
              " '.',\n",
              " 'note',\n",
              " 'that',\n",
              " 'libtorch',\n",
              " 'is',\n",
              " 'onli',\n",
              " 'avail',\n",
              " 'for',\n",
              " 'c++']"
            ]
          },
          "metadata": {},
          "execution_count": 10
        }
      ]
    },
    {
      "cell_type": "code",
      "source": [
        "from string import punctuation\n",
        "\n",
        "# удаление стоп-слов + удаление пунктуации\n",
        "stopWords = stopwords.words('english') + list(punctuation)\n",
        "wordsFiltered = [word for word in stemmed_words if word not in stopWords]\n",
        "wordsFiltered"
      ],
      "metadata": {
        "colab": {
          "base_uri": "https://localhost:8080/"
        },
        "id": "3wujeDVGc3nK",
        "outputId": "3394e730-4f91-4599-e19f-dda9524096d6"
      },
      "execution_count": 11,
      "outputs": [
        {
          "output_type": "execute_result",
          "data": {
            "text/plain": [
              "['select',\n",
              " 'prefer',\n",
              " 'run',\n",
              " 'instal',\n",
              " 'command',\n",
              " 'stabl',\n",
              " 'repres',\n",
              " 'current',\n",
              " 'test',\n",
              " 'support',\n",
              " 'version',\n",
              " 'pytorch',\n",
              " 'note',\n",
              " 'libtorch',\n",
              " 'onli',\n",
              " 'avail',\n",
              " 'c++']"
            ]
          },
          "metadata": {},
          "execution_count": 11
        }
      ]
    },
    {
      "cell_type": "markdown",
      "metadata": {
        "id": "bUhfertRtXE5"
      },
      "source": [
        "Реализовать функцию `preprocess_text(text: str)`, которая:\n",
        "* приводит строку к нижнему регистру\n",
        "* заменяет все символы, кроме a-z, A-Z и знаков .,!? на пробел\n"
      ]
    },
    {
      "cell_type": "code",
      "source": [
        "def preprocess_text(text: str):\n",
        "  ''' Приводит строку к нижнему регистру\n",
        "      Заменяет все символы, кроме a-z, A-Z и знаков .,!? на пробел '''\n",
        "  return re.sub(\"[^A-Za-z\\.,!? \\-']\", ' ', text.lower())"
      ],
      "metadata": {
        "id": "A1SkO-Amg-NA"
      },
      "execution_count": 12,
      "outputs": []
    },
    {
      "cell_type": "code",
      "source": [
        "text1 = \"Hello world! What's up? It's very nice to see you, is't it? Definetely. 55\"\n",
        "print(text1)\n",
        "print(preprocess_text(text1))"
      ],
      "metadata": {
        "colab": {
          "base_uri": "https://localhost:8080/"
        },
        "id": "sx5xVT4UiYxC",
        "outputId": "5954ac50-e7af-4ac5-dd9f-b7f5570ba5ef"
      },
      "execution_count": 13,
      "outputs": [
        {
          "output_type": "stream",
          "name": "stdout",
          "text": [
            "Hello world! What's up? It's very nice to see you, is't it? Definetely. 55\n",
            "hello world! what's up? it's very nice to see you, is't it? definetely.   \n"
          ]
        }
      ]
    },
    {
      "cell_type": "markdown",
      "metadata": {
        "id": "Z2Dt1ssIqckC"
      },
      "source": [
        "1.2 Представление текстовых данных при помощи бинарного кодирования\n",
        "\n",
        "\n",
        "Представить первое предложение из `text` в виде тензора `sentence_t`: `sentence_t[i] == 1`, если __слово__ с индексом `i` присуствует в предложении."
      ]
    },
    {
      "cell_type": "code",
      "source": [
        "tokenized_text = sent_tokenize(text)\n",
        "first_sentence = tokenized_text[0]\n",
        "first_sentence"
      ],
      "metadata": {
        "colab": {
          "base_uri": "https://localhost:8080/",
          "height": 35
        },
        "id": "FJ8Q0oCclnUz",
        "outputId": "5bc778f2-759e-408c-8584-a822009b5caf"
      },
      "execution_count": 14,
      "outputs": [
        {
          "output_type": "execute_result",
          "data": {
            "text/plain": [
              "'Select your preferences and run the install command.'"
            ],
            "application/vnd.google.colaboratory.intrinsic+json": {
              "type": "string"
            }
          },
          "metadata": {},
          "execution_count": 14
        }
      ]
    },
    {
      "cell_type": "code",
      "source": [
        "from sklearn.feature_extraction.text import CountVectorizer\n",
        "\n",
        "cv = CountVectorizer(binary=True)\n",
        "cv.fit(tokenized_text)\n",
        "f_s_cv = cv.transform([first_sentence]).toarray()\n",
        "f_s_cv"
      ],
      "metadata": {
        "colab": {
          "base_uri": "https://localhost:8080/"
        },
        "id": "ABm_ItrmnKv-",
        "outputId": "23ca6d15-633b-4bd9-94ac-1dadec84a837"
      },
      "execution_count": 15,
      "outputs": [
        {
          "output_type": "execute_result",
          "data": {
            "text/plain": [
              "array([[1, 0, 1, 0, 0, 1, 0, 0, 0, 0, 0, 0, 1, 0, 0, 1, 1, 0, 0, 0, 0, 1,\n",
              "        0, 1]])"
            ]
          },
          "metadata": {},
          "execution_count": 15
        }
      ]
    },
    {
      "cell_type": "code",
      "source": [
        "# просто ради интереса вывести словарь вокабуляр\n",
        "# cv.vocabulary_"
      ],
      "metadata": {
        "id": "Seuf0fg4oWya"
      },
      "execution_count": 16,
      "outputs": []
    },
    {
      "cell_type": "code",
      "source": [
        "# сам тензор\n",
        "sentence_t = torch.FloatTensor(f_s_cv[0])\n",
        "sentence_t"
      ],
      "metadata": {
        "colab": {
          "base_uri": "https://localhost:8080/"
        },
        "id": "8V6FDlePlFaL",
        "outputId": "d142e844-83c3-41b2-82eb-c4fe50eb90fc"
      },
      "execution_count": 17,
      "outputs": [
        {
          "output_type": "execute_result",
          "data": {
            "text/plain": [
              "tensor([1., 0., 1., 0., 0., 1., 0., 0., 0., 0., 0., 0., 1., 0., 0., 1., 1., 0.,\n",
              "        0., 0., 0., 1., 0., 1.])"
            ]
          },
          "metadata": {},
          "execution_count": 17
        }
      ]
    },
    {
      "cell_type": "markdown",
      "metadata": {
        "id": "bwVN33YhPoOb"
      },
      "source": [
        "## 3. Классификация обзоров ресторанов\n",
        "\n",
        "Датасет: https://disk.yandex.ru/d/nY1o70JtAuYa8g\n",
        "\n",
        "3.1 Считать файл `yelp/raw_train.csv`. Оставить от исходного датасета 10% строчек.\n",
        "\n",
        "3.2 Воспользоваться функцией `preprocess_text` из 1.1 для обработки текста отзыва. Закодировать рейтинг числами, начиная с 0.\n",
        "\n",
        "3.3 Разбить датасет на обучающую и тестовую выборку\n",
        "\n",
        "3.4 Реализовать класс `Vocab` (токен = слово)\n",
        "\n",
        "3.5 Реализовать класс `ReviewDataset`\n",
        "\n",
        "3.6 Обучить классификатор\n",
        "\n",
        "3.7 Измерить точность на тестовой выборке. Проверить работоспособность модели: придумать небольшой отзыв, прогнать его через модель и вывести номер предсказанного класса (сделать это для явно позитивного и явно негативного отзыва)\n"
      ]
    },
    {
      "cell_type": "code",
      "source": [
        "# 3.1 Считать файл yelp/raw_train.csv.\n",
        "df_ = pd.read_csv('/content/drive/MyDrive/ML/5/yelp/raw_train.csv', header=None, names=['target', 'review'])\n",
        "df_.head()"
      ],
      "metadata": {
        "colab": {
          "base_uri": "https://localhost:8080/",
          "height": 206
        },
        "outputId": "abfc90db-2e54-463e-cc71-9abb3886395d",
        "id": "4RgRnlywPoOo"
      },
      "execution_count": 44,
      "outputs": [
        {
          "output_type": "execute_result",
          "data": {
            "text/plain": [
              "   target                                             review\n",
              "0       1  Unfortunately, the frustration of being Dr. Go...\n",
              "1       2  Been going to Dr. Goldberg for over 10 years. ...\n",
              "2       1  I don't know what Dr. Goldberg was like before...\n",
              "3       1  I'm writing this review to give you a heads up...\n",
              "4       2  All the food is great here. But the best thing..."
            ],
            "text/html": [
              "\n",
              "  <div id=\"df-f0e6dc27-e087-4e06-9b8a-f1e85998a0d5\">\n",
              "    <div class=\"colab-df-container\">\n",
              "      <div>\n",
              "<style scoped>\n",
              "    .dataframe tbody tr th:only-of-type {\n",
              "        vertical-align: middle;\n",
              "    }\n",
              "\n",
              "    .dataframe tbody tr th {\n",
              "        vertical-align: top;\n",
              "    }\n",
              "\n",
              "    .dataframe thead th {\n",
              "        text-align: right;\n",
              "    }\n",
              "</style>\n",
              "<table border=\"1\" class=\"dataframe\">\n",
              "  <thead>\n",
              "    <tr style=\"text-align: right;\">\n",
              "      <th></th>\n",
              "      <th>target</th>\n",
              "      <th>review</th>\n",
              "    </tr>\n",
              "  </thead>\n",
              "  <tbody>\n",
              "    <tr>\n",
              "      <th>0</th>\n",
              "      <td>1</td>\n",
              "      <td>Unfortunately, the frustration of being Dr. Go...</td>\n",
              "    </tr>\n",
              "    <tr>\n",
              "      <th>1</th>\n",
              "      <td>2</td>\n",
              "      <td>Been going to Dr. Goldberg for over 10 years. ...</td>\n",
              "    </tr>\n",
              "    <tr>\n",
              "      <th>2</th>\n",
              "      <td>1</td>\n",
              "      <td>I don't know what Dr. Goldberg was like before...</td>\n",
              "    </tr>\n",
              "    <tr>\n",
              "      <th>3</th>\n",
              "      <td>1</td>\n",
              "      <td>I'm writing this review to give you a heads up...</td>\n",
              "    </tr>\n",
              "    <tr>\n",
              "      <th>4</th>\n",
              "      <td>2</td>\n",
              "      <td>All the food is great here. But the best thing...</td>\n",
              "    </tr>\n",
              "  </tbody>\n",
              "</table>\n",
              "</div>\n",
              "      <button class=\"colab-df-convert\" onclick=\"convertToInteractive('df-f0e6dc27-e087-4e06-9b8a-f1e85998a0d5')\"\n",
              "              title=\"Convert this dataframe to an interactive table.\"\n",
              "              style=\"display:none;\">\n",
              "        \n",
              "  <svg xmlns=\"http://www.w3.org/2000/svg\" height=\"24px\"viewBox=\"0 0 24 24\"\n",
              "       width=\"24px\">\n",
              "    <path d=\"M0 0h24v24H0V0z\" fill=\"none\"/>\n",
              "    <path d=\"M18.56 5.44l.94 2.06.94-2.06 2.06-.94-2.06-.94-.94-2.06-.94 2.06-2.06.94zm-11 1L8.5 8.5l.94-2.06 2.06-.94-2.06-.94L8.5 2.5l-.94 2.06-2.06.94zm10 10l.94 2.06.94-2.06 2.06-.94-2.06-.94-.94-2.06-.94 2.06-2.06.94z\"/><path d=\"M17.41 7.96l-1.37-1.37c-.4-.4-.92-.59-1.43-.59-.52 0-1.04.2-1.43.59L10.3 9.45l-7.72 7.72c-.78.78-.78 2.05 0 2.83L4 21.41c.39.39.9.59 1.41.59.51 0 1.02-.2 1.41-.59l7.78-7.78 2.81-2.81c.8-.78.8-2.07 0-2.86zM5.41 20L4 18.59l7.72-7.72 1.47 1.35L5.41 20z\"/>\n",
              "  </svg>\n",
              "      </button>\n",
              "      \n",
              "  <style>\n",
              "    .colab-df-container {\n",
              "      display:flex;\n",
              "      flex-wrap:wrap;\n",
              "      gap: 12px;\n",
              "    }\n",
              "\n",
              "    .colab-df-convert {\n",
              "      background-color: #E8F0FE;\n",
              "      border: none;\n",
              "      border-radius: 50%;\n",
              "      cursor: pointer;\n",
              "      display: none;\n",
              "      fill: #1967D2;\n",
              "      height: 32px;\n",
              "      padding: 0 0 0 0;\n",
              "      width: 32px;\n",
              "    }\n",
              "\n",
              "    .colab-df-convert:hover {\n",
              "      background-color: #E2EBFA;\n",
              "      box-shadow: 0px 1px 2px rgba(60, 64, 67, 0.3), 0px 1px 3px 1px rgba(60, 64, 67, 0.15);\n",
              "      fill: #174EA6;\n",
              "    }\n",
              "\n",
              "    [theme=dark] .colab-df-convert {\n",
              "      background-color: #3B4455;\n",
              "      fill: #D2E3FC;\n",
              "    }\n",
              "\n",
              "    [theme=dark] .colab-df-convert:hover {\n",
              "      background-color: #434B5C;\n",
              "      box-shadow: 0px 1px 3px 1px rgba(0, 0, 0, 0.15);\n",
              "      filter: drop-shadow(0px 1px 2px rgba(0, 0, 0, 0.3));\n",
              "      fill: #FFFFFF;\n",
              "    }\n",
              "  </style>\n",
              "\n",
              "      <script>\n",
              "        const buttonEl =\n",
              "          document.querySelector('#df-f0e6dc27-e087-4e06-9b8a-f1e85998a0d5 button.colab-df-convert');\n",
              "        buttonEl.style.display =\n",
              "          google.colab.kernel.accessAllowed ? 'block' : 'none';\n",
              "\n",
              "        async function convertToInteractive(key) {\n",
              "          const element = document.querySelector('#df-f0e6dc27-e087-4e06-9b8a-f1e85998a0d5');\n",
              "          const dataTable =\n",
              "            await google.colab.kernel.invokeFunction('convertToInteractive',\n",
              "                                                     [key], {});\n",
              "          if (!dataTable) return;\n",
              "\n",
              "          const docLinkHtml = 'Like what you see? Visit the ' +\n",
              "            '<a target=\"_blank\" href=https://colab.research.google.com/notebooks/data_table.ipynb>data table notebook</a>'\n",
              "            + ' to learn more about interactive tables.';\n",
              "          element.innerHTML = '';\n",
              "          dataTable['output_type'] = 'display_data';\n",
              "          await google.colab.output.renderOutput(dataTable, element);\n",
              "          const docLink = document.createElement('div');\n",
              "          docLink.innerHTML = docLinkHtml;\n",
              "          element.appendChild(docLink);\n",
              "        }\n",
              "      </script>\n",
              "    </div>\n",
              "  </div>\n",
              "  "
            ]
          },
          "metadata": {},
          "execution_count": 44
        }
      ]
    },
    {
      "cell_type": "code",
      "source": [
        "# Оставить от исходного датасета 10% строчек.\n",
        "df = df_.sample(int(df_.shape[0] * 0.1))\n",
        "df.shape"
      ],
      "metadata": {
        "colab": {
          "base_uri": "https://localhost:8080/"
        },
        "outputId": "e2ed41a0-b291-48eb-82ef-fabfb4c24f5d",
        "id": "AF7dtdB9PoOo"
      },
      "execution_count": 45,
      "outputs": [
        {
          "output_type": "execute_result",
          "data": {
            "text/plain": [
              "(56000, 2)"
            ]
          },
          "metadata": {},
          "execution_count": 45
        }
      ]
    },
    {
      "cell_type": "code",
      "source": [
        "# 3.2 Воспользоваться функцией preprocess_text из 1.1 для обработки текста отзыва.\n",
        "def preprocess_text_v2(text: str):\n",
        "  stopWords = stopwords.words('english') + list(punctuation)\n",
        "  words = text.split()\n",
        "  noStopWords = [word for word in words if word not in stopWords]\n",
        "  return \" \".join([stemmer.stem(word) for word in noStopWords])\n",
        "\n",
        "\n",
        "df['review'] = df['review'].apply(preprocess_text)\n",
        "df['review'] = df['review'].apply(preprocess_text_v2)\n",
        "df['review'].dropna(inplace=True)\n",
        "\n",
        "# df['review'] = df['review'].apply(word_tokenize)\n",
        "\n",
        "# stopWords = stopwords.words('english') + list(punctuation) + [\"'t\",\"'s\", \"'re\"]\n",
        "# df['review'] = df['review'].apply(lambda x: [word for word in x if word not in stopWords])\n",
        "\n",
        "# stemmer = SnowballStemmer(\"english\")\n",
        "# df['review'] = df['review'].apply(lambda x: [stemmer.stem(word) for word in x])"
      ],
      "metadata": {
        "id": "ddDL944oPoOp"
      },
      "execution_count": 46,
      "outputs": []
    },
    {
      "cell_type": "code",
      "source": [
        "# Закодировать рейтинг числами, начиная с 0.\n",
        "\n",
        "le = LabelEncoder()\n",
        "le.fit(df['target'])\n",
        "df['target'] = le.transform(df['target'])\n",
        "df.head()"
      ],
      "metadata": {
        "colab": {
          "base_uri": "https://localhost:8080/",
          "height": 206
        },
        "outputId": "4a3219a6-1d2a-4841-a3ca-77c724b0da9d",
        "id": "_eSYvFGsPoOp"
      },
      "execution_count": 47,
      "outputs": [
        {
          "output_type": "execute_result",
          "data": {
            "text/plain": [
              "        target                                             review\n",
              "301789       1  i'v tri typic breakfast places... one way bett...\n",
              "138968       1  husband came recent thought great deal love lo...\n",
              "164812       1  sophist beauti setting. high recommend white s...\n",
              "53649        1  time fav pho restaurant, authentic, mountain l...\n",
              "538171       0  failur custom servic locat taste. complet fail..."
            ],
            "text/html": [
              "\n",
              "  <div id=\"df-c813d489-fb76-46f7-b715-99a3abfa17e1\">\n",
              "    <div class=\"colab-df-container\">\n",
              "      <div>\n",
              "<style scoped>\n",
              "    .dataframe tbody tr th:only-of-type {\n",
              "        vertical-align: middle;\n",
              "    }\n",
              "\n",
              "    .dataframe tbody tr th {\n",
              "        vertical-align: top;\n",
              "    }\n",
              "\n",
              "    .dataframe thead th {\n",
              "        text-align: right;\n",
              "    }\n",
              "</style>\n",
              "<table border=\"1\" class=\"dataframe\">\n",
              "  <thead>\n",
              "    <tr style=\"text-align: right;\">\n",
              "      <th></th>\n",
              "      <th>target</th>\n",
              "      <th>review</th>\n",
              "    </tr>\n",
              "  </thead>\n",
              "  <tbody>\n",
              "    <tr>\n",
              "      <th>301789</th>\n",
              "      <td>1</td>\n",
              "      <td>i'v tri typic breakfast places... one way bett...</td>\n",
              "    </tr>\n",
              "    <tr>\n",
              "      <th>138968</th>\n",
              "      <td>1</td>\n",
              "      <td>husband came recent thought great deal love lo...</td>\n",
              "    </tr>\n",
              "    <tr>\n",
              "      <th>164812</th>\n",
              "      <td>1</td>\n",
              "      <td>sophist beauti setting. high recommend white s...</td>\n",
              "    </tr>\n",
              "    <tr>\n",
              "      <th>53649</th>\n",
              "      <td>1</td>\n",
              "      <td>time fav pho restaurant, authentic, mountain l...</td>\n",
              "    </tr>\n",
              "    <tr>\n",
              "      <th>538171</th>\n",
              "      <td>0</td>\n",
              "      <td>failur custom servic locat taste. complet fail...</td>\n",
              "    </tr>\n",
              "  </tbody>\n",
              "</table>\n",
              "</div>\n",
              "      <button class=\"colab-df-convert\" onclick=\"convertToInteractive('df-c813d489-fb76-46f7-b715-99a3abfa17e1')\"\n",
              "              title=\"Convert this dataframe to an interactive table.\"\n",
              "              style=\"display:none;\">\n",
              "        \n",
              "  <svg xmlns=\"http://www.w3.org/2000/svg\" height=\"24px\"viewBox=\"0 0 24 24\"\n",
              "       width=\"24px\">\n",
              "    <path d=\"M0 0h24v24H0V0z\" fill=\"none\"/>\n",
              "    <path d=\"M18.56 5.44l.94 2.06.94-2.06 2.06-.94-2.06-.94-.94-2.06-.94 2.06-2.06.94zm-11 1L8.5 8.5l.94-2.06 2.06-.94-2.06-.94L8.5 2.5l-.94 2.06-2.06.94zm10 10l.94 2.06.94-2.06 2.06-.94-2.06-.94-.94-2.06-.94 2.06-2.06.94z\"/><path d=\"M17.41 7.96l-1.37-1.37c-.4-.4-.92-.59-1.43-.59-.52 0-1.04.2-1.43.59L10.3 9.45l-7.72 7.72c-.78.78-.78 2.05 0 2.83L4 21.41c.39.39.9.59 1.41.59.51 0 1.02-.2 1.41-.59l7.78-7.78 2.81-2.81c.8-.78.8-2.07 0-2.86zM5.41 20L4 18.59l7.72-7.72 1.47 1.35L5.41 20z\"/>\n",
              "  </svg>\n",
              "      </button>\n",
              "      \n",
              "  <style>\n",
              "    .colab-df-container {\n",
              "      display:flex;\n",
              "      flex-wrap:wrap;\n",
              "      gap: 12px;\n",
              "    }\n",
              "\n",
              "    .colab-df-convert {\n",
              "      background-color: #E8F0FE;\n",
              "      border: none;\n",
              "      border-radius: 50%;\n",
              "      cursor: pointer;\n",
              "      display: none;\n",
              "      fill: #1967D2;\n",
              "      height: 32px;\n",
              "      padding: 0 0 0 0;\n",
              "      width: 32px;\n",
              "    }\n",
              "\n",
              "    .colab-df-convert:hover {\n",
              "      background-color: #E2EBFA;\n",
              "      box-shadow: 0px 1px 2px rgba(60, 64, 67, 0.3), 0px 1px 3px 1px rgba(60, 64, 67, 0.15);\n",
              "      fill: #174EA6;\n",
              "    }\n",
              "\n",
              "    [theme=dark] .colab-df-convert {\n",
              "      background-color: #3B4455;\n",
              "      fill: #D2E3FC;\n",
              "    }\n",
              "\n",
              "    [theme=dark] .colab-df-convert:hover {\n",
              "      background-color: #434B5C;\n",
              "      box-shadow: 0px 1px 3px 1px rgba(0, 0, 0, 0.15);\n",
              "      filter: drop-shadow(0px 1px 2px rgba(0, 0, 0, 0.3));\n",
              "      fill: #FFFFFF;\n",
              "    }\n",
              "  </style>\n",
              "\n",
              "      <script>\n",
              "        const buttonEl =\n",
              "          document.querySelector('#df-c813d489-fb76-46f7-b715-99a3abfa17e1 button.colab-df-convert');\n",
              "        buttonEl.style.display =\n",
              "          google.colab.kernel.accessAllowed ? 'block' : 'none';\n",
              "\n",
              "        async function convertToInteractive(key) {\n",
              "          const element = document.querySelector('#df-c813d489-fb76-46f7-b715-99a3abfa17e1');\n",
              "          const dataTable =\n",
              "            await google.colab.kernel.invokeFunction('convertToInteractive',\n",
              "                                                     [key], {});\n",
              "          if (!dataTable) return;\n",
              "\n",
              "          const docLinkHtml = 'Like what you see? Visit the ' +\n",
              "            '<a target=\"_blank\" href=https://colab.research.google.com/notebooks/data_table.ipynb>data table notebook</a>'\n",
              "            + ' to learn more about interactive tables.';\n",
              "          element.innerHTML = '';\n",
              "          dataTable['output_type'] = 'display_data';\n",
              "          await google.colab.output.renderOutput(dataTable, element);\n",
              "          const docLink = document.createElement('div');\n",
              "          docLink.innerHTML = docLinkHtml;\n",
              "          element.appendChild(docLink);\n",
              "        }\n",
              "      </script>\n",
              "    </div>\n",
              "  </div>\n",
              "  "
            ]
          },
          "metadata": {},
          "execution_count": 47
        }
      ]
    },
    {
      "cell_type": "code",
      "source": [
        "df.to_csv('/content/drive/MyDrive/ML/5/yelp/preprocessed.csv')"
      ],
      "metadata": {
        "id": "ST5qjxwXPoOr"
      },
      "execution_count": 48,
      "outputs": []
    },
    {
      "cell_type": "code",
      "execution_count": 66,
      "metadata": {
        "id": "zjYVdewYPoOr"
      },
      "outputs": [],
      "source": [
        "# 3.4 Реализовать класс Vocab (токен = слово)\n",
        "\n",
        "class Vocab:\n",
        "  def __init__(self, data):\n",
        "    self.token_to_idx = {}\n",
        "    self.idx_to_token = {}\n",
        "    for line in data:\n",
        "      if type(line) == str:\n",
        "        line = word_tokenize(line)\n",
        "        for word in line:\n",
        "          if word not in self.token_to_idx:\n",
        "            self.token_to_idx[word] = len(self.token_to_idx)\n",
        "            self.idx_to_token[len(self.token_to_idx)] = word\n",
        "    self.vocab_len = len(self.token_to_idx)"
      ]
    },
    {
      "cell_type": "code",
      "source": [
        "# 3.5 Реализовать класс ReviewDataset\n",
        "class ReviewDataset(Dataset):\n",
        "  def __init__(self, X, y, vocab: Vocab):\n",
        "    self.X = X\n",
        "    self.y = y\n",
        "    self.vocab = vocab\n",
        "\n",
        "  def vectorize(self, review):\n",
        "    '''Генерирует представление отзыва review при помощи бинарного кодирования (см. 1.2)'''\n",
        "    tensor = torch.zeros(vocab.vocab_len)\n",
        "    review_list = word_tokenize(review)\n",
        "    for word in review_list:\n",
        "        tensor[vocab.token_to_idx[word]] = 1\n",
        "    return tensor\n",
        "\n",
        "  def __len__(self):\n",
        "    return len(self.X)\n",
        "\n",
        "  def __getitem__(self, idx):\n",
        "    X = self.vectorize(self.X[idx])\n",
        "    y = self.y[idx]\n",
        "    return X, y"
      ],
      "metadata": {
        "id": "5bz_bIO1PoOs"
      },
      "execution_count": 67,
      "outputs": []
    },
    {
      "cell_type": "code",
      "source": [
        "df = pd.read_csv('/content/drive/MyDrive/ML/5/yelp/preprocessed.csv', index_col=[0])\n",
        "df.head()"
      ],
      "metadata": {
        "colab": {
          "base_uri": "https://localhost:8080/",
          "height": 206
        },
        "outputId": "f79cda6d-4c0e-4eea-c3aa-33430fc1f5d4",
        "id": "9NNKFJVOPoOs"
      },
      "execution_count": 68,
      "outputs": [
        {
          "output_type": "execute_result",
          "data": {
            "text/plain": [
              "        target                                             review\n",
              "301789       1  i'v tri typic breakfast places... one way bett...\n",
              "138968       1  husband came recent thought great deal love lo...\n",
              "164812       1  sophist beauti setting. high recommend white s...\n",
              "53649        1  time fav pho restaurant, authentic, mountain l...\n",
              "538171       0  failur custom servic locat taste. complet fail..."
            ],
            "text/html": [
              "\n",
              "  <div id=\"df-65743190-8552-455d-932e-94c0ed419412\">\n",
              "    <div class=\"colab-df-container\">\n",
              "      <div>\n",
              "<style scoped>\n",
              "    .dataframe tbody tr th:only-of-type {\n",
              "        vertical-align: middle;\n",
              "    }\n",
              "\n",
              "    .dataframe tbody tr th {\n",
              "        vertical-align: top;\n",
              "    }\n",
              "\n",
              "    .dataframe thead th {\n",
              "        text-align: right;\n",
              "    }\n",
              "</style>\n",
              "<table border=\"1\" class=\"dataframe\">\n",
              "  <thead>\n",
              "    <tr style=\"text-align: right;\">\n",
              "      <th></th>\n",
              "      <th>target</th>\n",
              "      <th>review</th>\n",
              "    </tr>\n",
              "  </thead>\n",
              "  <tbody>\n",
              "    <tr>\n",
              "      <th>301789</th>\n",
              "      <td>1</td>\n",
              "      <td>i'v tri typic breakfast places... one way bett...</td>\n",
              "    </tr>\n",
              "    <tr>\n",
              "      <th>138968</th>\n",
              "      <td>1</td>\n",
              "      <td>husband came recent thought great deal love lo...</td>\n",
              "    </tr>\n",
              "    <tr>\n",
              "      <th>164812</th>\n",
              "      <td>1</td>\n",
              "      <td>sophist beauti setting. high recommend white s...</td>\n",
              "    </tr>\n",
              "    <tr>\n",
              "      <th>53649</th>\n",
              "      <td>1</td>\n",
              "      <td>time fav pho restaurant, authentic, mountain l...</td>\n",
              "    </tr>\n",
              "    <tr>\n",
              "      <th>538171</th>\n",
              "      <td>0</td>\n",
              "      <td>failur custom servic locat taste. complet fail...</td>\n",
              "    </tr>\n",
              "  </tbody>\n",
              "</table>\n",
              "</div>\n",
              "      <button class=\"colab-df-convert\" onclick=\"convertToInteractive('df-65743190-8552-455d-932e-94c0ed419412')\"\n",
              "              title=\"Convert this dataframe to an interactive table.\"\n",
              "              style=\"display:none;\">\n",
              "        \n",
              "  <svg xmlns=\"http://www.w3.org/2000/svg\" height=\"24px\"viewBox=\"0 0 24 24\"\n",
              "       width=\"24px\">\n",
              "    <path d=\"M0 0h24v24H0V0z\" fill=\"none\"/>\n",
              "    <path d=\"M18.56 5.44l.94 2.06.94-2.06 2.06-.94-2.06-.94-.94-2.06-.94 2.06-2.06.94zm-11 1L8.5 8.5l.94-2.06 2.06-.94-2.06-.94L8.5 2.5l-.94 2.06-2.06.94zm10 10l.94 2.06.94-2.06 2.06-.94-2.06-.94-.94-2.06-.94 2.06-2.06.94z\"/><path d=\"M17.41 7.96l-1.37-1.37c-.4-.4-.92-.59-1.43-.59-.52 0-1.04.2-1.43.59L10.3 9.45l-7.72 7.72c-.78.78-.78 2.05 0 2.83L4 21.41c.39.39.9.59 1.41.59.51 0 1.02-.2 1.41-.59l7.78-7.78 2.81-2.81c.8-.78.8-2.07 0-2.86zM5.41 20L4 18.59l7.72-7.72 1.47 1.35L5.41 20z\"/>\n",
              "  </svg>\n",
              "      </button>\n",
              "      \n",
              "  <style>\n",
              "    .colab-df-container {\n",
              "      display:flex;\n",
              "      flex-wrap:wrap;\n",
              "      gap: 12px;\n",
              "    }\n",
              "\n",
              "    .colab-df-convert {\n",
              "      background-color: #E8F0FE;\n",
              "      border: none;\n",
              "      border-radius: 50%;\n",
              "      cursor: pointer;\n",
              "      display: none;\n",
              "      fill: #1967D2;\n",
              "      height: 32px;\n",
              "      padding: 0 0 0 0;\n",
              "      width: 32px;\n",
              "    }\n",
              "\n",
              "    .colab-df-convert:hover {\n",
              "      background-color: #E2EBFA;\n",
              "      box-shadow: 0px 1px 2px rgba(60, 64, 67, 0.3), 0px 1px 3px 1px rgba(60, 64, 67, 0.15);\n",
              "      fill: #174EA6;\n",
              "    }\n",
              "\n",
              "    [theme=dark] .colab-df-convert {\n",
              "      background-color: #3B4455;\n",
              "      fill: #D2E3FC;\n",
              "    }\n",
              "\n",
              "    [theme=dark] .colab-df-convert:hover {\n",
              "      background-color: #434B5C;\n",
              "      box-shadow: 0px 1px 3px 1px rgba(0, 0, 0, 0.15);\n",
              "      filter: drop-shadow(0px 1px 2px rgba(0, 0, 0, 0.3));\n",
              "      fill: #FFFFFF;\n",
              "    }\n",
              "  </style>\n",
              "\n",
              "      <script>\n",
              "        const buttonEl =\n",
              "          document.querySelector('#df-65743190-8552-455d-932e-94c0ed419412 button.colab-df-convert');\n",
              "        buttonEl.style.display =\n",
              "          google.colab.kernel.accessAllowed ? 'block' : 'none';\n",
              "\n",
              "        async function convertToInteractive(key) {\n",
              "          const element = document.querySelector('#df-65743190-8552-455d-932e-94c0ed419412');\n",
              "          const dataTable =\n",
              "            await google.colab.kernel.invokeFunction('convertToInteractive',\n",
              "                                                     [key], {});\n",
              "          if (!dataTable) return;\n",
              "\n",
              "          const docLinkHtml = 'Like what you see? Visit the ' +\n",
              "            '<a target=\"_blank\" href=https://colab.research.google.com/notebooks/data_table.ipynb>data table notebook</a>'\n",
              "            + ' to learn more about interactive tables.';\n",
              "          element.innerHTML = '';\n",
              "          dataTable['output_type'] = 'display_data';\n",
              "          await google.colab.output.renderOutput(dataTable, element);\n",
              "          const docLink = document.createElement('div');\n",
              "          docLink.innerHTML = docLinkHtml;\n",
              "          element.appendChild(docLink);\n",
              "        }\n",
              "      </script>\n",
              "    </div>\n",
              "  </div>\n",
              "  "
            ]
          },
          "metadata": {},
          "execution_count": 68
        }
      ]
    },
    {
      "cell_type": "code",
      "source": [
        "df = df.dropna()"
      ],
      "metadata": {
        "id": "Kc3m2Bpr4a-R"
      },
      "execution_count": 78,
      "outputs": []
    },
    {
      "cell_type": "code",
      "source": [
        "# 3.3 Разбить датасет на обучающую и тестовую выборку\n",
        "X_train, X_test, y_train, y_test = train_test_split(df['review'], df['target'],\n",
        "                                                    train_size=0.85,\n",
        "                                                    random_state=42)"
      ],
      "metadata": {
        "id": "Cej87qZdPoOs"
      },
      "execution_count": 79,
      "outputs": []
    },
    {
      "cell_type": "code",
      "source": [
        "%%time\n",
        "vocab = Vocab(df['review'])\n",
        "train_data = ReviewDataset(X_train.values, y_train.values, vocab)\n",
        "test_data = ReviewDataset(X_test.values, y_test.values, vocab)"
      ],
      "metadata": {
        "colab": {
          "base_uri": "https://localhost:8080/"
        },
        "id": "lKkvg5YXPoOt",
        "outputId": "858d57bc-a2dd-4ed1-aa87-d3eee6eb6653"
      },
      "execution_count": 107,
      "outputs": [
        {
          "output_type": "stream",
          "name": "stdout",
          "text": [
            "CPU times: user 42.9 s, sys: 70.4 ms, total: 43 s\n",
            "Wall time: 44.9 s\n"
          ]
        }
      ]
    },
    {
      "cell_type": "code",
      "source": [
        "batch_size = 30\n",
        "train_dataloader = DataLoader(train_data, batch_size=batch_size, shuffle=True)\n",
        "test_dataloader = DataLoader(test_data, batch_size=batch_size, shuffle=True)"
      ],
      "metadata": {
        "id": "suKTx_l5PoOt"
      },
      "execution_count": 108,
      "outputs": []
    },
    {
      "cell_type": "code",
      "source": [
        "# 3.6 Обучить классификатор\n",
        "class ReviewClassifier(nn.Module):\n",
        "\n",
        "    def __init__(self, num_labels, vocab_size, hidden_size):\n",
        "        super(ReviewClassifier, self).__init__()\n",
        "        self.linear1 = nn.Linear(vocab_size, hidden_size * 2)\n",
        "        self.linear2 = nn.Linear(hidden_size * 2, hidden_size)\n",
        "        self.linear3 = nn.Linear(hidden_size, num_labels)\n",
        "        self.relu = nn.ReLU()\n",
        "\n",
        "    def forward(self, inputs):\n",
        "        lin1 = self.relu(self.linear1(inputs))\n",
        "        lin2 = self.relu(self.linear2(lin1))\n",
        "        return self.linear3(lin2)"
      ],
      "metadata": {
        "id": "YfPF1fv2PoOu"
      },
      "execution_count": 111,
      "outputs": []
    },
    {
      "cell_type": "code",
      "source": [
        "import time\n",
        "\n",
        "def time_since(since):\n",
        "    now = time.time()\n",
        "    s = now - since\n",
        "    m = np.floor(s / 60)\n",
        "    s -= m * 60\n",
        "    return '%dm %ds' % (m, s)"
      ],
      "metadata": {
        "id": "jFsoTtEVVdsI"
      },
      "execution_count": 83,
      "outputs": []
    },
    {
      "cell_type": "code",
      "source": [
        "vocab_size = vocab.vocab_len\n",
        "num_labels = 3\n",
        "hidden_size = 128\n",
        "lr=0.005\n",
        "\n",
        "model = ReviewClassifier(num_labels, vocab_size, hidden_size)\n",
        "loss_function = nn.CrossEntropyLoss()\n",
        "optimizer = optim.SGD(model.parameters(), lr=lr, momentum=0.9)\n",
        "\n",
        "log_interval = 1\n",
        "n_epoch = 4\n",
        "losses_list = []\n",
        "\n",
        "start = time.time()\n",
        "\n",
        "model.train()\n",
        "for epoch in range(1, n_epoch + 1):\n",
        "    losses = []\n",
        "    optimizer = optim.Adam(model.parameters(), lr=lr)\n",
        "    for idx, (data, target) in enumerate(train_dataloader):\n",
        "        model.zero_grad()\n",
        "        predict = model(data)\n",
        "        loss = loss_function(predict, target)\n",
        "        losses.append(loss.item())\n",
        "        loss.backward()\n",
        "        optimizer.step()\n",
        "    losses_list.append(np.mean(losses))\n",
        "    if epoch % log_interval == 0:\n",
        "        print(\"Epoch: {}/{} ({:.2f})%|\".format(epoch, n_epoch, epoch / n_epoch * 100),\n",
        "              \"{}|\".format(time_since(start)),\n",
        "                  \"Training loss: {:.3f}..\".format(np.mean(losses_list)))"
      ],
      "metadata": {
        "colab": {
          "base_uri": "https://localhost:8080/"
        },
        "outputId": "27cd38c6-2bd6-47f9-b93c-e544516c3685",
        "id": "YJyIq1WXPoOu"
      },
      "execution_count": 118,
      "outputs": [
        {
          "output_type": "stream",
          "name": "stdout",
          "text": [
            "Epoch: 1/4 (25.00)%| 9m 0s| Training loss: 0.264..\n",
            "Epoch: 2/4 (50.00)%| 18m 27s| Training loss: 0.197..\n",
            "Epoch: 3/4 (75.00)%| 28m 30s| Training loss: 0.152..\n",
            "Epoch: 4/4 (100.00)%| 38m 34s| Training loss: 0.123..\n"
          ]
        }
      ]
    },
    {
      "cell_type": "code",
      "source": [
        "torch.save(model.state_dict(), 'model_review.pt')"
      ],
      "metadata": {
        "id": "DyES8Bu9feya"
      },
      "execution_count": 119,
      "outputs": []
    },
    {
      "cell_type": "code",
      "source": [
        "# 3.7 Измерить точность на тестовой выборке.\n",
        "\n",
        "losses_t = []\n",
        "correct = 0\n",
        "sum = 0\n",
        "for idx_, (data, target) in enumerate(test_dataloader):\n",
        "    # model.no_grad()\n",
        "    predict = model(data)\n",
        "    for idx in range(data.size()[0]):\n",
        "        if predict[idx].topk(1)[1].item() == target[idx].item():\n",
        "          correct += 1\n",
        "    sum += data.size()[0]\n",
        "    loss = loss_function(predict, target)\n",
        "    losses_t.append(loss.item())\n",
        "\n",
        "print(\"Test loss: {:.3f}..\".format(np.mean(losses_t)))\n",
        "print(f'{correct} / {sum}, {correct / sum * 100:.3}%')"
      ],
      "metadata": {
        "colab": {
          "base_uri": "https://localhost:8080/"
        },
        "outputId": "3dc0987d-044a-4dce-8c13-cd8f6fc5b75e",
        "id": "uJ7cfOfHPoOv"
      },
      "execution_count": 120,
      "outputs": [
        {
          "output_type": "stream",
          "name": "stdout",
          "text": [
            "Test loss: 0.871..\n",
            "7537 / 8400, 89.7%\n"
          ]
        }
      ]
    },
    {
      "cell_type": "code",
      "source": [
        "# Проверить работоспособность модели: придумать небольшой отзыв,\n",
        "# прогнать его через модель и вывести номер предсказанного класса\n",
        "#  (сделать это для явно позитивного и явно негативного отзыва)\n",
        "# 0 - плохо\n",
        "# 1 - хорошо\n",
        "\n",
        "bad_revs = ['unhealthy food', 'disgusting view']\n",
        "good_revs = ['I love this place, best cupcakes', 'amazing view']\n",
        "pos_neg = ['bad', 'good']\n",
        "\n",
        "for rev in bad_revs:\n",
        "    pred_ = model(train_data.vectorize(preprocess_text_v2(rev))).topk(1)[1].item()\n",
        "    print(f'{rev} (bad review) => (predicted) {pos_neg[pred_]}')\n",
        "\n",
        "for rev in good_revs:\n",
        "    pred_ = model(train_data.vectorize(preprocess_text_v2(rev))).topk(1)[1].item()\n",
        "    print(f'{rev} (good review) => (predicted) {pos_neg[pred_]}')"
      ],
      "metadata": {
        "colab": {
          "base_uri": "https://localhost:8080/"
        },
        "id": "CCEgb__YrKxk",
        "outputId": "274592a5-73a3-4606-9803-0d47892fc467"
      },
      "execution_count": 128,
      "outputs": [
        {
          "output_type": "stream",
          "name": "stdout",
          "text": [
            "unhealthy food (bad review) => (predicted) bad\n",
            "disgusting view (bad review) => (predicted) bad\n",
            "I love this place, best cupcakes (good review) => (predicted) good\n",
            "amazing view (good review) => (predicted) good\n"
          ]
        }
      ]
    }
  ],
  "metadata": {
    "colab": {
      "provenance": [],
      "collapsed_sections": [
        "PLmDB3fJtVox"
      ]
    },
    "kernelspec": {
      "display_name": "Python 3 (ipykernel)",
      "language": "python",
      "name": "python3"
    },
    "language_info": {
      "codemirror_mode": {
        "name": "ipython",
        "version": 3
      },
      "file_extension": ".py",
      "mimetype": "text/x-python",
      "name": "python",
      "nbconvert_exporter": "python",
      "pygments_lexer": "ipython3",
      "version": "3.9.12"
    },
    "gpuClass": "standard"
  },
  "nbformat": 4,
  "nbformat_minor": 0
}